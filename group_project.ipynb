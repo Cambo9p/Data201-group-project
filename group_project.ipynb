{
 "cells": [
  {
   "cell_type": "markdown",
   "id": "c0874ec8",
   "metadata": {},
   "source": [
    "# Group Project \n",
    "\n",
    "## Cpe79 - Sli169 - Pni31 -  Wch96 \n",
    "\n",
    "\n",
    "\n"
   ]
  }
 ],
 "metadata": {
  "kernelspec": {
   "display_name": "R",
   "language": "R",
   "name": "ir"
  },
  "language_info": {
   "codemirror_mode": "r",
   "file_extension": ".r",
   "mimetype": "text/x-r-source",
   "name": "R",
   "pygments_lexer": "r",
   "version": "4.2.1"
  }
 },
 "nbformat": 4,
 "nbformat_minor": 5
}
