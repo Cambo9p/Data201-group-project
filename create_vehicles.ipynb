{
 "cells": [
  {
   "cell_type": "markdown",
   "id": "3ecb27eb",
   "metadata": {},
   "source": [
    "this is the file to create the vehicles.csv file "
   ]
  }
 ],
 "metadata": {
  "kernelspec": {
   "display_name": "R",
   "language": "R",
   "name": "ir"
  },
  "language_info": {
   "codemirror_mode": "r",
   "file_extension": ".r",
   "mimetype": "text/x-r-source",
   "name": "R",
   "pygments_lexer": "r",
   "version": "4.2.1"
  }
 },
 "nbformat": 4,
 "nbformat_minor": 5
}
