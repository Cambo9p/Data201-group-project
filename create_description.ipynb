{
 "cells": [
  {
   "cell_type": "markdown",
   "id": "b8769c86",
   "metadata": {},
   "source": [
    "the purppose of this file is to create the description.csv file using the chch_crash.csv file "
   ]
  }
 ],
 "metadata": {
  "kernelspec": {
   "display_name": "R",
   "language": "R",
   "name": "ir"
  },
  "language_info": {
   "codemirror_mode": "r",
   "file_extension": ".r",
   "mimetype": "text/x-r-source",
   "name": "R",
   "pygments_lexer": "r",
   "version": "4.2.1"
  }
 },
 "nbformat": 4,
 "nbformat_minor": 5
}
