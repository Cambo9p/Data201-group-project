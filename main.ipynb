{
 "cells": [
  {
   "cell_type": "markdown",
   "id": "3881a13b",
   "metadata": {},
   "source": [
    "this file will create a file which is a merger off all the R kernel \n",
    "files so that to produce the data all you need is to run that file \n",
    "Unfortunately the downside of this is that there is a ***lot*** of redundant code as a lot of importing and also importing libraries is redone "
   ]
  },
  {
   "cell_type": "code",
   "execution_count": 1,
   "id": "6ebafedd",
   "metadata": {},
   "outputs": [
    {
     "name": "stdout",
     "output_type": "stream",
     "text": [
      "Requirement already satisfied: nbmerge in /home/cam_p/anaconda3/lib/python3.9/site-packages (0.0.4)\n",
      "Note: you may need to restart the kernel to use updated packages.\n"
     ]
    }
   ],
   "source": [
    "pip install nbmerge "
   ]
  },
  {
   "cell_type": "code",
   "execution_count": 7,
   "id": "0294a0dd",
   "metadata": {},
   "outputs": [],
   "source": [
    "!nbmerge filter_by_region.ipynb create_vehicles.ipynb \\\n",
    "create_speed.ipynb create_location.ipynb create_injury.ipynb \\\n",
    "create_description.ipynb create_data_model.ipynb > merged.ipynb "
   ]
  }
 ],
 "metadata": {
  "kernelspec": {
   "display_name": "Python 3 (ipykernel)",
   "language": "python",
   "name": "python3"
  },
  "language_info": {
   "codemirror_mode": {
    "name": "ipython",
    "version": 3
   },
   "file_extension": ".py",
   "mimetype": "text/x-python",
   "name": "python",
   "nbconvert_exporter": "python",
   "pygments_lexer": "ipython3",
   "version": "3.9.12"
  }
 },
 "nbformat": 4,
 "nbformat_minor": 5
}
