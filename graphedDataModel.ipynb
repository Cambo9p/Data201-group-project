{
 "cells": [
  {
   "cell_type": "code",
   "execution_count": 24,
   "id": "cf0eee53",
   "metadata": {},
   "outputs": [
    {
     "name": "stderr",
     "output_type": "stream",
     "text": [
      "── \u001b[1mAttaching packages\u001b[22m ─────────────────────────────────────────────────────────────────────────────── tidyverse 1.3.2 ──\n",
      "\u001b[32m✔\u001b[39m \u001b[34mggplot2\u001b[39m 3.3.6     \u001b[32m✔\u001b[39m \u001b[34mpurrr  \u001b[39m 0.3.5\n",
      "\u001b[32m✔\u001b[39m \u001b[34mtibble \u001b[39m 3.1.8     \u001b[32m✔\u001b[39m \u001b[34mdplyr  \u001b[39m 1.0.9\n",
      "\u001b[32m✔\u001b[39m \u001b[34mtidyr  \u001b[39m 1.2.0     \u001b[32m✔\u001b[39m \u001b[34mstringr\u001b[39m 1.4.1\n",
      "\u001b[32m✔\u001b[39m \u001b[34mreadr  \u001b[39m 2.1.2     \u001b[32m✔\u001b[39m \u001b[34mforcats\u001b[39m 0.5.1\n",
      "── \u001b[1mConflicts\u001b[22m ────────────────────────────────────────────────────────────────────────────────── tidyverse_conflicts() ──\n",
      "\u001b[31m✖\u001b[39m \u001b[34mdplyr\u001b[39m::\u001b[32mfilter()\u001b[39m masks \u001b[34mstats\u001b[39m::filter()\n",
      "\u001b[31m✖\u001b[39m \u001b[34mdplyr\u001b[39m::\u001b[32mlag()\u001b[39m    masks \u001b[34mstats\u001b[39m::lag()\n"
     ]
    },
    {
     "ename": "ERROR",
     "evalue": "Error in library(ggplot): there is no package called 'ggplot'\n",
     "output_type": "error",
     "traceback": [
      "Error in library(ggplot): there is no package called 'ggplot'\nTraceback:\n",
      "1. library(ggplot)"
     ]
    }
   ],
   "source": [
    "library(tidyverse)\n",
    "library(ggplot)"
   ]
  },
  {
   "cell_type": "code",
   "execution_count": 32,
   "id": "2853a33c",
   "metadata": {
    "scrolled": false
   },
   "outputs": [
    {
     "name": "stderr",
     "output_type": "stream",
     "text": [
      "\u001b[1m\u001b[22mNew names:\n",
      "\u001b[36m•\u001b[39m `` -> `...1`\n",
      "\u001b[1mRows: \u001b[22m\u001b[34m80155\u001b[39m \u001b[1mColumns: \u001b[22m\u001b[34m6\u001b[39m\n",
      "\u001b[36m──\u001b[39m \u001b[1mColumn specification\u001b[22m \u001b[36m────────────────────────────────────────────────────────────────────────────────────────────────\u001b[39m\n",
      "\u001b[1mDelimiter:\u001b[22m \",\"\n",
      "\u001b[32mdbl\u001b[39m (6): ...1, injury_id, fatalCount, seriousInjuryCount, minorInjuryCount, ...\n",
      "\n",
      "\u001b[36mℹ\u001b[39m Use `spec()` to retrieve the full column specification for this data.\n",
      "\u001b[36mℹ\u001b[39m Specify the column types or set `show_col_types = FALSE` to quiet this message.\n"
     ]
    },
    {
     "data": {
      "text/html": [
       "<table class=\"dataframe\">\n",
       "<caption>A tibble: 80155 × 5</caption>\n",
       "<thead>\n",
       "\t<tr><th scope=col>injury_id</th><th scope=col>fatalCount</th><th scope=col>seriousInjuryCount</th><th scope=col>minorInjuryCount</th><th scope=col>count</th></tr>\n",
       "\t<tr><th scope=col>&lt;dbl&gt;</th><th scope=col>&lt;dbl&gt;</th><th scope=col>&lt;dbl&gt;</th><th scope=col>&lt;dbl&gt;</th><th scope=col>&lt;dbl&gt;</th></tr>\n",
       "</thead>\n",
       "<tbody>\n",
       "\t<tr><td> 1</td><td>0</td><td>0</td><td>0</td><td>0</td></tr>\n",
       "\t<tr><td> 2</td><td>0</td><td>0</td><td>0</td><td>0</td></tr>\n",
       "\t<tr><td> 3</td><td>0</td><td>0</td><td>0</td><td>0</td></tr>\n",
       "\t<tr><td> 4</td><td>0</td><td>0</td><td>0</td><td>0</td></tr>\n",
       "\t<tr><td> 5</td><td>0</td><td>0</td><td>0</td><td>0</td></tr>\n",
       "\t<tr><td> 6</td><td>0</td><td>0</td><td>0</td><td>0</td></tr>\n",
       "\t<tr><td> 7</td><td>0</td><td>0</td><td>0</td><td>0</td></tr>\n",
       "\t<tr><td> 8</td><td>0</td><td>0</td><td>0</td><td>0</td></tr>\n",
       "\t<tr><td> 9</td><td>0</td><td>0</td><td>0</td><td>0</td></tr>\n",
       "\t<tr><td>10</td><td>0</td><td>0</td><td>0</td><td>0</td></tr>\n",
       "\t<tr><td>11</td><td>0</td><td>0</td><td>0</td><td>0</td></tr>\n",
       "\t<tr><td>12</td><td>0</td><td>0</td><td>0</td><td>0</td></tr>\n",
       "\t<tr><td>13</td><td>0</td><td>0</td><td>0</td><td>0</td></tr>\n",
       "\t<tr><td>14</td><td>0</td><td>0</td><td>0</td><td>0</td></tr>\n",
       "\t<tr><td>15</td><td>0</td><td>0</td><td>0</td><td>0</td></tr>\n",
       "\t<tr><td>16</td><td>0</td><td>0</td><td>0</td><td>0</td></tr>\n",
       "\t<tr><td>17</td><td>0</td><td>0</td><td>0</td><td>0</td></tr>\n",
       "\t<tr><td>18</td><td>0</td><td>0</td><td>0</td><td>0</td></tr>\n",
       "\t<tr><td>19</td><td>0</td><td>0</td><td>0</td><td>0</td></tr>\n",
       "\t<tr><td>20</td><td>0</td><td>0</td><td>0</td><td>0</td></tr>\n",
       "\t<tr><td>21</td><td>0</td><td>0</td><td>0</td><td>0</td></tr>\n",
       "\t<tr><td>22</td><td>0</td><td>0</td><td>0</td><td>0</td></tr>\n",
       "\t<tr><td>23</td><td>0</td><td>0</td><td>0</td><td>0</td></tr>\n",
       "\t<tr><td>24</td><td>0</td><td>0</td><td>0</td><td>0</td></tr>\n",
       "\t<tr><td>25</td><td>0</td><td>0</td><td>0</td><td>0</td></tr>\n",
       "\t<tr><td>26</td><td>0</td><td>0</td><td>0</td><td>0</td></tr>\n",
       "\t<tr><td>27</td><td>0</td><td>0</td><td>0</td><td>0</td></tr>\n",
       "\t<tr><td>28</td><td>0</td><td>0</td><td>0</td><td>0</td></tr>\n",
       "\t<tr><td>29</td><td>0</td><td>0</td><td>0</td><td>0</td></tr>\n",
       "\t<tr><td>30</td><td>0</td><td>0</td><td>0</td><td>0</td></tr>\n",
       "\t<tr><td>⋮</td><td>⋮</td><td>⋮</td><td>⋮</td><td>⋮</td></tr>\n",
       "\t<tr><td>80126</td><td>0</td><td>0</td><td>0</td><td>0</td></tr>\n",
       "\t<tr><td>80127</td><td>0</td><td>0</td><td>1</td><td>1</td></tr>\n",
       "\t<tr><td>80128</td><td>0</td><td>0</td><td>0</td><td>0</td></tr>\n",
       "\t<tr><td>80129</td><td>0</td><td>0</td><td>1</td><td>1</td></tr>\n",
       "\t<tr><td>80130</td><td>0</td><td>0</td><td>1</td><td>1</td></tr>\n",
       "\t<tr><td>80131</td><td>0</td><td>0</td><td>0</td><td>0</td></tr>\n",
       "\t<tr><td>80132</td><td>0</td><td>0</td><td>0</td><td>0</td></tr>\n",
       "\t<tr><td>80133</td><td>0</td><td>0</td><td>0</td><td>0</td></tr>\n",
       "\t<tr><td>80134</td><td>0</td><td>0</td><td>0</td><td>0</td></tr>\n",
       "\t<tr><td>80135</td><td>0</td><td>0</td><td>1</td><td>1</td></tr>\n",
       "\t<tr><td>80136</td><td>0</td><td>0</td><td>2</td><td>2</td></tr>\n",
       "\t<tr><td>80137</td><td>0</td><td>1</td><td>0</td><td>1</td></tr>\n",
       "\t<tr><td>80138</td><td>0</td><td>0</td><td>1</td><td>1</td></tr>\n",
       "\t<tr><td>80139</td><td>0</td><td>0</td><td>0</td><td>0</td></tr>\n",
       "\t<tr><td>80140</td><td>0</td><td>0</td><td>0</td><td>0</td></tr>\n",
       "\t<tr><td>80141</td><td>0</td><td>0</td><td>1</td><td>1</td></tr>\n",
       "\t<tr><td>80142</td><td>0</td><td>0</td><td>0</td><td>0</td></tr>\n",
       "\t<tr><td>80143</td><td>0</td><td>0</td><td>0</td><td>0</td></tr>\n",
       "\t<tr><td>80144</td><td>0</td><td>0</td><td>0</td><td>0</td></tr>\n",
       "\t<tr><td>80145</td><td>0</td><td>0</td><td>0</td><td>0</td></tr>\n",
       "\t<tr><td>80146</td><td>0</td><td>0</td><td>1</td><td>1</td></tr>\n",
       "\t<tr><td>80147</td><td>0</td><td>0</td><td>0</td><td>0</td></tr>\n",
       "\t<tr><td>80148</td><td>0</td><td>0</td><td>3</td><td>3</td></tr>\n",
       "\t<tr><td>80149</td><td>0</td><td>0</td><td>0</td><td>0</td></tr>\n",
       "\t<tr><td>80150</td><td>0</td><td>0</td><td>0</td><td>0</td></tr>\n",
       "\t<tr><td>80151</td><td>0</td><td>0</td><td>0</td><td>0</td></tr>\n",
       "\t<tr><td>80152</td><td>0</td><td>0</td><td>0</td><td>0</td></tr>\n",
       "\t<tr><td>80153</td><td>0</td><td>0</td><td>1</td><td>1</td></tr>\n",
       "\t<tr><td>80154</td><td>0</td><td>0</td><td>1</td><td>1</td></tr>\n",
       "\t<tr><td>80155</td><td>0</td><td>0</td><td>1</td><td>1</td></tr>\n",
       "</tbody>\n",
       "</table>\n"
      ],
      "text/latex": [
       "A tibble: 80155 × 5\n",
       "\\begin{tabular}{lllll}\n",
       " injury\\_id & fatalCount & seriousInjuryCount & minorInjuryCount & count\\\\\n",
       " <dbl> & <dbl> & <dbl> & <dbl> & <dbl>\\\\\n",
       "\\hline\n",
       "\t  1 & 0 & 0 & 0 & 0\\\\\n",
       "\t  2 & 0 & 0 & 0 & 0\\\\\n",
       "\t  3 & 0 & 0 & 0 & 0\\\\\n",
       "\t  4 & 0 & 0 & 0 & 0\\\\\n",
       "\t  5 & 0 & 0 & 0 & 0\\\\\n",
       "\t  6 & 0 & 0 & 0 & 0\\\\\n",
       "\t  7 & 0 & 0 & 0 & 0\\\\\n",
       "\t  8 & 0 & 0 & 0 & 0\\\\\n",
       "\t  9 & 0 & 0 & 0 & 0\\\\\n",
       "\t 10 & 0 & 0 & 0 & 0\\\\\n",
       "\t 11 & 0 & 0 & 0 & 0\\\\\n",
       "\t 12 & 0 & 0 & 0 & 0\\\\\n",
       "\t 13 & 0 & 0 & 0 & 0\\\\\n",
       "\t 14 & 0 & 0 & 0 & 0\\\\\n",
       "\t 15 & 0 & 0 & 0 & 0\\\\\n",
       "\t 16 & 0 & 0 & 0 & 0\\\\\n",
       "\t 17 & 0 & 0 & 0 & 0\\\\\n",
       "\t 18 & 0 & 0 & 0 & 0\\\\\n",
       "\t 19 & 0 & 0 & 0 & 0\\\\\n",
       "\t 20 & 0 & 0 & 0 & 0\\\\\n",
       "\t 21 & 0 & 0 & 0 & 0\\\\\n",
       "\t 22 & 0 & 0 & 0 & 0\\\\\n",
       "\t 23 & 0 & 0 & 0 & 0\\\\\n",
       "\t 24 & 0 & 0 & 0 & 0\\\\\n",
       "\t 25 & 0 & 0 & 0 & 0\\\\\n",
       "\t 26 & 0 & 0 & 0 & 0\\\\\n",
       "\t 27 & 0 & 0 & 0 & 0\\\\\n",
       "\t 28 & 0 & 0 & 0 & 0\\\\\n",
       "\t 29 & 0 & 0 & 0 & 0\\\\\n",
       "\t 30 & 0 & 0 & 0 & 0\\\\\n",
       "\t ⋮ & ⋮ & ⋮ & ⋮ & ⋮\\\\\n",
       "\t 80126 & 0 & 0 & 0 & 0\\\\\n",
       "\t 80127 & 0 & 0 & 1 & 1\\\\\n",
       "\t 80128 & 0 & 0 & 0 & 0\\\\\n",
       "\t 80129 & 0 & 0 & 1 & 1\\\\\n",
       "\t 80130 & 0 & 0 & 1 & 1\\\\\n",
       "\t 80131 & 0 & 0 & 0 & 0\\\\\n",
       "\t 80132 & 0 & 0 & 0 & 0\\\\\n",
       "\t 80133 & 0 & 0 & 0 & 0\\\\\n",
       "\t 80134 & 0 & 0 & 0 & 0\\\\\n",
       "\t 80135 & 0 & 0 & 1 & 1\\\\\n",
       "\t 80136 & 0 & 0 & 2 & 2\\\\\n",
       "\t 80137 & 0 & 1 & 0 & 1\\\\\n",
       "\t 80138 & 0 & 0 & 1 & 1\\\\\n",
       "\t 80139 & 0 & 0 & 0 & 0\\\\\n",
       "\t 80140 & 0 & 0 & 0 & 0\\\\\n",
       "\t 80141 & 0 & 0 & 1 & 1\\\\\n",
       "\t 80142 & 0 & 0 & 0 & 0\\\\\n",
       "\t 80143 & 0 & 0 & 0 & 0\\\\\n",
       "\t 80144 & 0 & 0 & 0 & 0\\\\\n",
       "\t 80145 & 0 & 0 & 0 & 0\\\\\n",
       "\t 80146 & 0 & 0 & 1 & 1\\\\\n",
       "\t 80147 & 0 & 0 & 0 & 0\\\\\n",
       "\t 80148 & 0 & 0 & 3 & 3\\\\\n",
       "\t 80149 & 0 & 0 & 0 & 0\\\\\n",
       "\t 80150 & 0 & 0 & 0 & 0\\\\\n",
       "\t 80151 & 0 & 0 & 0 & 0\\\\\n",
       "\t 80152 & 0 & 0 & 0 & 0\\\\\n",
       "\t 80153 & 0 & 0 & 1 & 1\\\\\n",
       "\t 80154 & 0 & 0 & 1 & 1\\\\\n",
       "\t 80155 & 0 & 0 & 1 & 1\\\\\n",
       "\\end{tabular}\n"
      ],
      "text/markdown": [
       "\n",
       "A tibble: 80155 × 5\n",
       "\n",
       "| injury_id &lt;dbl&gt; | fatalCount &lt;dbl&gt; | seriousInjuryCount &lt;dbl&gt; | minorInjuryCount &lt;dbl&gt; | count &lt;dbl&gt; |\n",
       "|---|---|---|---|---|\n",
       "|  1 | 0 | 0 | 0 | 0 |\n",
       "|  2 | 0 | 0 | 0 | 0 |\n",
       "|  3 | 0 | 0 | 0 | 0 |\n",
       "|  4 | 0 | 0 | 0 | 0 |\n",
       "|  5 | 0 | 0 | 0 | 0 |\n",
       "|  6 | 0 | 0 | 0 | 0 |\n",
       "|  7 | 0 | 0 | 0 | 0 |\n",
       "|  8 | 0 | 0 | 0 | 0 |\n",
       "|  9 | 0 | 0 | 0 | 0 |\n",
       "| 10 | 0 | 0 | 0 | 0 |\n",
       "| 11 | 0 | 0 | 0 | 0 |\n",
       "| 12 | 0 | 0 | 0 | 0 |\n",
       "| 13 | 0 | 0 | 0 | 0 |\n",
       "| 14 | 0 | 0 | 0 | 0 |\n",
       "| 15 | 0 | 0 | 0 | 0 |\n",
       "| 16 | 0 | 0 | 0 | 0 |\n",
       "| 17 | 0 | 0 | 0 | 0 |\n",
       "| 18 | 0 | 0 | 0 | 0 |\n",
       "| 19 | 0 | 0 | 0 | 0 |\n",
       "| 20 | 0 | 0 | 0 | 0 |\n",
       "| 21 | 0 | 0 | 0 | 0 |\n",
       "| 22 | 0 | 0 | 0 | 0 |\n",
       "| 23 | 0 | 0 | 0 | 0 |\n",
       "| 24 | 0 | 0 | 0 | 0 |\n",
       "| 25 | 0 | 0 | 0 | 0 |\n",
       "| 26 | 0 | 0 | 0 | 0 |\n",
       "| 27 | 0 | 0 | 0 | 0 |\n",
       "| 28 | 0 | 0 | 0 | 0 |\n",
       "| 29 | 0 | 0 | 0 | 0 |\n",
       "| 30 | 0 | 0 | 0 | 0 |\n",
       "| ⋮ | ⋮ | ⋮ | ⋮ | ⋮ |\n",
       "| 80126 | 0 | 0 | 0 | 0 |\n",
       "| 80127 | 0 | 0 | 1 | 1 |\n",
       "| 80128 | 0 | 0 | 0 | 0 |\n",
       "| 80129 | 0 | 0 | 1 | 1 |\n",
       "| 80130 | 0 | 0 | 1 | 1 |\n",
       "| 80131 | 0 | 0 | 0 | 0 |\n",
       "| 80132 | 0 | 0 | 0 | 0 |\n",
       "| 80133 | 0 | 0 | 0 | 0 |\n",
       "| 80134 | 0 | 0 | 0 | 0 |\n",
       "| 80135 | 0 | 0 | 1 | 1 |\n",
       "| 80136 | 0 | 0 | 2 | 2 |\n",
       "| 80137 | 0 | 1 | 0 | 1 |\n",
       "| 80138 | 0 | 0 | 1 | 1 |\n",
       "| 80139 | 0 | 0 | 0 | 0 |\n",
       "| 80140 | 0 | 0 | 0 | 0 |\n",
       "| 80141 | 0 | 0 | 1 | 1 |\n",
       "| 80142 | 0 | 0 | 0 | 0 |\n",
       "| 80143 | 0 | 0 | 0 | 0 |\n",
       "| 80144 | 0 | 0 | 0 | 0 |\n",
       "| 80145 | 0 | 0 | 0 | 0 |\n",
       "| 80146 | 0 | 0 | 1 | 1 |\n",
       "| 80147 | 0 | 0 | 0 | 0 |\n",
       "| 80148 | 0 | 0 | 3 | 3 |\n",
       "| 80149 | 0 | 0 | 0 | 0 |\n",
       "| 80150 | 0 | 0 | 0 | 0 |\n",
       "| 80151 | 0 | 0 | 0 | 0 |\n",
       "| 80152 | 0 | 0 | 0 | 0 |\n",
       "| 80153 | 0 | 0 | 1 | 1 |\n",
       "| 80154 | 0 | 0 | 1 | 1 |\n",
       "| 80155 | 0 | 0 | 1 | 1 |\n",
       "\n"
      ],
      "text/plain": [
       "      injury_id fatalCount seriousInjuryCount minorInjuryCount count\n",
       "1      1        0          0                  0                0    \n",
       "2      2        0          0                  0                0    \n",
       "3      3        0          0                  0                0    \n",
       "4      4        0          0                  0                0    \n",
       "5      5        0          0                  0                0    \n",
       "6      6        0          0                  0                0    \n",
       "7      7        0          0                  0                0    \n",
       "8      8        0          0                  0                0    \n",
       "9      9        0          0                  0                0    \n",
       "10    10        0          0                  0                0    \n",
       "11    11        0          0                  0                0    \n",
       "12    12        0          0                  0                0    \n",
       "13    13        0          0                  0                0    \n",
       "14    14        0          0                  0                0    \n",
       "15    15        0          0                  0                0    \n",
       "16    16        0          0                  0                0    \n",
       "17    17        0          0                  0                0    \n",
       "18    18        0          0                  0                0    \n",
       "19    19        0          0                  0                0    \n",
       "20    20        0          0                  0                0    \n",
       "21    21        0          0                  0                0    \n",
       "22    22        0          0                  0                0    \n",
       "23    23        0          0                  0                0    \n",
       "24    24        0          0                  0                0    \n",
       "25    25        0          0                  0                0    \n",
       "26    26        0          0                  0                0    \n",
       "27    27        0          0                  0                0    \n",
       "28    28        0          0                  0                0    \n",
       "29    29        0          0                  0                0    \n",
       "30    30        0          0                  0                0    \n",
       "⋮     ⋮         ⋮          ⋮                  ⋮                ⋮    \n",
       "80126 80126     0          0                  0                0    \n",
       "80127 80127     0          0                  1                1    \n",
       "80128 80128     0          0                  0                0    \n",
       "80129 80129     0          0                  1                1    \n",
       "80130 80130     0          0                  1                1    \n",
       "80131 80131     0          0                  0                0    \n",
       "80132 80132     0          0                  0                0    \n",
       "80133 80133     0          0                  0                0    \n",
       "80134 80134     0          0                  0                0    \n",
       "80135 80135     0          0                  1                1    \n",
       "80136 80136     0          0                  2                2    \n",
       "80137 80137     0          1                  0                1    \n",
       "80138 80138     0          0                  1                1    \n",
       "80139 80139     0          0                  0                0    \n",
       "80140 80140     0          0                  0                0    \n",
       "80141 80141     0          0                  1                1    \n",
       "80142 80142     0          0                  0                0    \n",
       "80143 80143     0          0                  0                0    \n",
       "80144 80144     0          0                  0                0    \n",
       "80145 80145     0          0                  0                0    \n",
       "80146 80146     0          0                  1                1    \n",
       "80147 80147     0          0                  0                0    \n",
       "80148 80148     0          0                  3                3    \n",
       "80149 80149     0          0                  0                0    \n",
       "80150 80150     0          0                  0                0    \n",
       "80151 80151     0          0                  0                0    \n",
       "80152 80152     0          0                  0                0    \n",
       "80153 80153     0          0                  1                1    \n",
       "80154 80154     0          0                  1                1    \n",
       "80155 80155     0          0                  1                1    "
      ]
     },
     "metadata": {},
     "output_type": "display_data"
    }
   ],
   "source": [
    "#Import the data model\n",
    "model <- readRDS(file='crashDataModel.rds')\n",
    "injury <- read_csv(file = \"injury.csv\")\n",
    "injury_data <- select(injury, -c(1))\n",
    "injury_data"
   ]
  },
  {
   "cell_type": "code",
   "execution_count": 42,
   "id": "287f2be5",
   "metadata": {},
   "outputs": [
    {
     "data": {
      "image/png": "[encoded data removed]",
      "text/plain": [
       "Plot with title \"Number of casualties in crashes\""
      ]
     },
     "metadata": {
      "image/png": {
       "height": 420,
       "width": 420
      }
     },
     "output_type": "display_data"
    },
    {
     "data": {
      "image/png": "[encoded data removed]",
      "text/plain": [
       "Plot with title \"Number of serious injurys in crashes\""
      ]
     },
     "metadata": {
      "image/png": {
       "height": 420,
       "width": 420
      }
     },
     "output_type": "display_data"
    },
    {
     "data": {
      "image/png": "[encoded data removed]",
      "text/plain": [
       "Plot with title \"Number of minor injurys in crashes\""
      ]
     },
     "metadata": {
      "image/png": {
       "height": 420,
       "width": 420
      }
     },
     "output_type": "display_data"
    }
   ],
   "source": [
    "injury_fatal <- table(injury_data[c(\"fatalCount\")])\n",
    "injury_serious <- table(injury_data[c(\"seriousInjuryCount\")])\n",
    "injury_minor <- table(injury_data[c(\"minorInjuryCount\")])\n",
    "barplot(injury_fatal, col=c('red'), ylab='Number of occurences', xlab='Number of casualties', cex.lab=1.5, las=3, main='Number of casualties in crashes')\n",
    "barplot(injury_serious, col=c('orange'), ylab='Number of occurences', xlab='Number of serious injurys', cex.lab=1.5, las=3, main='Number of serious injurys in crashes')\n",
    "barplot(injury_minor, col=c('yellow'), ylab='Number of occurences', xlab='Number of minor injurys', cex.lab=1.5, las=3, main='Number of minor injurys in crashes')"
   ]
  },
  {
   "cell_type": "code",
   "execution_count": 22,
   "id": "2f5c08f7",
   "metadata": {
    "scrolled": true
   },
   "outputs": [
    {
     "data": {
      "image/png": "[encoded data removed]",
      "text/plain": [
       "Plot with title \"Frequency of crashes at given speed ranges\""
      ]
     },
     "metadata": {
      "image/png": {
       "height": 420,
       "width": 420
      }
     },
     "output_type": "display_data"
    }
   ],
   "source": [
    "#Barplot to show frequency of crashes at given speed\n",
    "speed_table <- table(model[c(\"speed_id\")])\n",
    "barplot(speed_table, col=c('red'), ylab='Freqecy of crashes', xlab='Speed of Crashes', cex.lab=1.5, las=3, main='Frequency of crashes at given speed ranges')"
   ]
  },
  {
   "cell_type": "code",
   "execution_count": null,
   "id": "21a567d3",
   "metadata": {},
   "outputs": [],
   "source": []
  },
  {
   "cell_type": "code",
   "execution_count": null,
   "id": "1516bd5d",
   "metadata": {},
   "outputs": [],
   "source": []
  }
 ],
 "metadata": {
  "kernelspec": {
   "display_name": "R",
   "language": "R",
   "name": "ir"
  },
  "language_info": {
   "codemirror_mode": "r",
   "file_extension": ".r",
   "mimetype": "text/x-r-source",
   "name": "R",
   "pygments_lexer": "r",
   "version": "4.2.1"
  }
 },
 "nbformat": 4,
 "nbformat_minor": 5
}
