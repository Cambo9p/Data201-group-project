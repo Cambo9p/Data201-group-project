{
 "cells": [
  {
   "cell_type": "markdown",
   "id": "70d1f604",
   "metadata": {},
   "source": [
    "the purpose of this notebook is to download the correct csv from the crash analysis system web page\n",
    "these cells are in python as i found this to be the fastest and most reliable way ( the only way that didnt timeout)"
   ]
  },
  {
   "cell_type": "code",
   "execution_count": 1,
   "id": "06d037e3",
   "metadata": {},
   "outputs": [],
   "source": [
    "import pandas as pd"
   ]
  },
  {
   "cell_type": "code",
   "execution_count": 2,
   "id": "9f35db40",
   "metadata": {},
   "outputs": [],
   "source": [
    "# the following cell takes around 7.5 minutes to complete at around 280 Mbps \n",
    "url=\"https://opendata-nzta.opendata.arcgis.com/datasets/NZTA::crash-analysis-system-cas-data-1.csv?outSR=%7B%22latestWkid%22%3A2193%2C%22wkid%22%3A2193%7Db\"\n",
    "df = pd.read_csv(url)"
   ]
  },
  {
   "cell_type": "code",
   "execution_count": 3,
   "id": "d85ed6d1",
   "metadata": {},
   "outputs": [],
   "source": [
    "# takes about 30 seconds\n",
    "df.to_csv(\"crash_data.csv\")"
   ]
  }
 ],
 "metadata": {
  "kernelspec": {
   "display_name": "Python 3 (ipykernel)",
   "language": "python",
   "name": "python3"
  },
  "language_info": {
   "codemirror_mode": {
    "name": "ipython",
    "version": 3
   },
   "file_extension": ".py",
   "mimetype": "text/x-python",
   "name": "python",
   "nbconvert_exporter": "python",
   "pygments_lexer": "ipython3",
   "version": "3.9.12"
  }
 },
 "nbformat": 4,
 "nbformat_minor": 5
}
