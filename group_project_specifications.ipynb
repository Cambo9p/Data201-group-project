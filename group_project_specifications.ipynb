{
 "cells": [
  {
   "cell_type": "markdown",
   "id": "c0874ec8",
   "metadata": {},
   "source": [
    "# Group Project \n",
    "\n",
    "## Cpe79 - Sli169 - Pni31 -  Wch96 \n",
    "\n",
    "\n",
    "\n"
   ]
  },
  {
   "cell_type": "markdown",
   "id": "8bd9d8b4",
   "metadata": {},
   "source": [
    "The deliverable that we ask you to submit by the end of the group work (Friday, 23 October, 1:00 PM) is a compressed folder (a zipped folder) containing:\n",
    "1. A project report. The report should clearly describe:\n",
    "        1. what data sources you used\n",
    "        2. why you chose those data sources\n",
    "        3. what target you chose (i.e., what is the intended use of the data, ...)\n",
    "        4. what difficulties you had to overcome to wrangle the data sources into the target data model\n",
    "        5. what techniques you did use\n",
    "        6. what you managed to achieve and what you failed to do\n",
    "        \n",
    "2. A project diary: every day you work on the project, take a detailed note of who-did-what in a text file. Even when you work by yourself, take note of what you did and then report that into the group diary \n",
    "\n",
    "3. Slides or any other material for the data presentation\n",
    "\n",
    "4. Jupyter notebooks with all the code you wrote to do the various wrangling tasks, well documented and commented. If you use more than one Jupyter notebook, you should also include a document explaining how the notebooks are linked (i.e., in which sequence should we run the notebooks to reproduce your analysis, what do they perform, ...)\n",
    "\n",
    "5. The data you produced, or a link to access the data you produced, and all the relevant documentation for us to access and understand the data. If we can access the data with the information you give us, we consider that a non-submission\n",
    "\n",
    "All documents must be either in .pdf, markdown or jupyter notebooks; absolutely no word documents or similar proprietary formats."
   ]
  },
  {
   "cell_type": "markdown",
   "id": "ea5780d2",
   "metadata": {},
   "source": [
    "#### 1. Launch and fast prototyping\n",
    "\n",
    "This is the phase of exploration and prototyping \n",
    "\n",
    "##### Exploration\n",
    "\n",
    "As a team, you need to identify _good_ set of data sources. A _good_ datasource for this projects is a source of data that:\n",
    "\n",
    "1. you can read and handle, or learn to read and handle in a very short time. Formats that are too exotique may be very interesting, but they may also require a too long time to import into anything familiar to you. To be fair, most of the datasets you can find in the sources we suggest you are in a good format. _pro tip_: avoid data presented in pdf tables, unless you are ready to do a lot of hand work (if you do, it's great).\n",
    "\n",
    "2. it is not already in the most suitable data model. If the source dataset is already perfect, there's little you can do and you won't have the opportunity to exhibit your skills. Government or NGO data is usually quite dirty, so they represent good choices\n",
    "\n",
    "3. it is _interesting_ for you. I don't have a strong interest in cars, and for me working a month on car data set would be a boring hell. But maybe you LOVE cars, than that dataset would be perfect for you. Try to consider your passions, or look at the news to see what may be a hot topic. Avoid abused datasets (i.e., _iris_ or _mtcars_ or _titanic_ or ...): we have already seen all possible projects about that stuff.\n",
    "\n",
    "4. it is _joined_ or _joinable_ to other data sources. Consider the presence of common identifiers (things as: region names, product ids, years or dates, ...) that you may use to connect two or more data sources and tell a story (great data stories often emerge from connections)"
   ]
  },
  {
   "cell_type": "markdown",
   "id": "21a44fb2",
   "metadata": {},
   "source": [
    "### Suggested data sources\n",
    "\n",
    "There's no hard boundary: if you do identify a data source we did not think about, even better.\n",
    "\n",
    "\n",
    "1. https://data.govt.nz/ : a large repository of New Zealand Governmental Datasets, in various formats, most of local interest.\n",
    "2. http://www.who.int/gho/en/ : a database of information from the World Health Organization, of global interest.\n",
    "3. http://data.un.org/ : a collection of databases from the United Nations, of global interest.\n",
    "4. https://www.google.com/publicdata/directory : a directory of public data from Google.\n",
    "5. https://www.gdeltproject.org: Global Database of Events, Language, and Tone: a comprehensive, high resolution open database of human society events."
   ]
  },
  {
   "cell_type": "markdown",
   "id": "4ee1b0e0",
   "metadata": {},
   "source": [
    "##### Prototyping\n",
    "\n",
    "You won't find the best data sources at the first go\n",
    "\n",
    "Once you have identified a candidate set of data sources, try and write down what use you want to make of it. A good way is to try and write down some question you would like to answer with the data sources (good questions are question that do require some wrangling and cannot be simply answered using only one of the data sources).\n",
    "\n",
    "After that, **prototype** your data wrangling: you may decide to work on a limited subset of data to see you can quickly write some code to get closer to answering your questions. The code does not need to be perfect, nor the questions need to be answered at this stage. Yet, if the questions look to easy or too hard consider (1) changing question, or (2) changing data sources and questions.\n",
    "\n",
    "Fail fast, fail often. Trying and hitting a wall as soon as possible you can avoid to find yourself stuck at the mid of your project"
   ]
  },
  {
   "cell_type": "markdown",
   "id": "88257545",
   "metadata": {},
   "source": [
    " \"**Late submissions** are strongly discouraged.\\n\",\n",
    "    \"You have more than month of time to get your project together, if you find yourself short in time for very serious problems let me know and we'll find a solution. A good idea is to work on incremental improvement, starting from a rough project and getting it better and better, so that whenever you stop you have something ready to be submit.\\n\",\n",
    "    \"Otherwise, if not agreed differently between us (Giulio and Thomas) and you, the standard departmental late submission policy will be applied."
   ]
  }
 ],
 "metadata": {
  "kernelspec": {
   "display_name": "R",
   "language": "R",
   "name": "ir"
  },
  "language_info": {
   "codemirror_mode": "r",
   "file_extension": ".r",
   "mimetype": "text/x-r-source",
   "name": "R",
   "pygments_lexer": "r",
   "version": "4.2.1"
  }
 },
 "nbformat": 4,
 "nbformat_minor": 5
}
